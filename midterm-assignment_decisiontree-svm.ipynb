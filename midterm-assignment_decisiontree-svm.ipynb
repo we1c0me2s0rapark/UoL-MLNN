{
 "cells": [
  {
   "cell_type": "code",
   "execution_count": 1,
   "id": "ba185a7d",
   "metadata": {},
   "outputs": [],
   "source": [
    "from __future__ import print_function\n",
    "\n",
    "from time import time\n",
    "import logging\n",
    "import os\n",
    "import yaml\n",
    "import cv2\n",
    "import math\n",
    "import numpy as np\n",
    "import matplotlib.pyplot as plt\n",
    "\n",
    "from sklearn.metrics import accuracy_score\n",
    "\n",
    "logging.basicConfig(level=logging.INFO, format='%(asctime)s %(message)s')"
   ]
  },
  {
   "cell_type": "code",
   "execution_count": 2,
   "id": "70b9ae0f",
   "metadata": {},
   "outputs": [],
   "source": [
    "# Extrac the dataset path from a config file, which is in the form of yaml\n",
    "config = yaml.safe_load(open(r'.\\config.yml'))\n",
    "rootPath = config['path']"
   ]
  },
  {
   "cell_type": "code",
   "execution_count": 3,
   "id": "89b5be6e",
   "metadata": {},
   "outputs": [
    {
     "name": "stdout",
     "output_type": "stream",
     "text": [
      "X_train: (4800, 90000)\n",
      "X_test: (3200, 90000)\n",
      "y_train: (4800,)\n",
      "y_test: (3200,)\n"
     ]
    }
   ],
   "source": [
    "#### Declare training data lists\n",
    "X_train = []\n",
    "y_train = []\n",
    "\n",
    "# Declare target data lists\n",
    "X_test = []\n",
    "y_test = []\n",
    "\n",
    "\n",
    "# arr = []\n",
    "# targets = []\n",
    "###\n",
    "#  'arr' and 'targets' have been commented out\n",
    "#  because datasets are stored in two folders, man and woman, respectively.\n",
    "#  Each dataset should be divided into training and test sets directly from the folders.\n",
    "#  Consequently, the 'train_test_split' function is not required for these datasets.\n",
    "###\n",
    "\n",
    "\n",
    "# Declare the division ratio\n",
    "test_size = 0.4\n",
    "\n",
    "# Specify the maximum size for both training and test sets\n",
    "# A large amount of data unneseccarily takes a long time to be processed.\n",
    "max_data_size = 4000\n",
    "\n",
    "# Get all directories stored in the root folder\n",
    "dirs = os.listdir(rootPath)\n",
    "\n",
    "for singleDir in dirs:\n",
    "    # Add the directory name after the root path\n",
    "    filePath = os.path.join(rootPath, singleDir)\n",
    "    \n",
    "    # Get all file names stored in the file folder\n",
    "    files = os.listdir(filePath)\n",
    "    \n",
    "    # Check if the file folder is empty\n",
    "    # If empty, move on to the next folder\n",
    "    if len(files) == 0: continue\n",
    "    \n",
    "    # If the training data size exceeds the maximum data size,\n",
    "    # the last index is determined based on the maximum data size.\n",
    "    # Otherwise, the index is calculated based on the number of files.\n",
    "    data_size = min(len(files), max_data_size)\n",
    "    last_train_index = max(0, math.floor(data_size * (1 - test_size)) - 1)\n",
    "    \n",
    "    for i in range(data_size):\n",
    "        # Retrieve the image information and convert it to a numpy array\n",
    "        farr = np.array(cv2.resize\\\n",
    "                (cv2.cvtColor(\\\n",
    "                  cv2.imread(os.path.join(filePath, files[i])), cv2.COLOR_BGR2GRAY), (300, 300))) / 255\n",
    "        farr = farr.reshape(1, farr.shape[1] * farr.shape[0])[0]\n",
    "        fname = singleDir\n",
    "        \n",
    "        # arr.append(farr)\n",
    "        # targets.append(fname)\n",
    "        ###\n",
    "        #  The above lines have been commented out\n",
    "        #  because the variables are not used\n",
    "        ###\n",
    "        \n",
    "        # Append the single data (1D array) to the training list\n",
    "        # if the current index is greater than or equals to the last train index.\n",
    "        # Otherwise, it should be added to the test list\n",
    "        if i <= last_train_index:\n",
    "            X_train.append(farr)\n",
    "            y_train.append(fname)\n",
    "        else:\n",
    "            X_test.append(farr)\n",
    "            y_test.append(fname)\n",
    "\n",
    "# Convert all the data lists into numpy arrays\n",
    "X_train = np.array(X_train)\n",
    "X_test = np.array(X_test)\n",
    "y_train = np.array(y_train)\n",
    "y_test = np.array(y_test)\n",
    "# arr = np.array(arr)\n",
    "# targets = np.array(targets)\n",
    "\n",
    "print(\"X_train:\", X_train.shape)\n",
    "print(\"X_test:\", X_test.shape)\n",
    "print(\"y_train:\", y_train.shape)\n",
    "print(\"y_test:\", y_test.shape)\n",
    "# print(\"arr:\", arr.shape)\n",
    "# print(\"targets:\", targets.shape)"
   ]
  },
  {
   "cell_type": "markdown",
   "id": "c4119754",
   "metadata": {},
   "source": [
    "The **train_test_split function** is not used since the datasets have already been divided into two lists for training and test purposes. The data files are located in two folders, 'man' and 'woman'. The training and test lists should consist of files from both folders, maintaining a (specify division ratio) split. This manual separation is more manageable than using the train_test_split function in this case."
   ]
  },
  {
   "cell_type": "code",
   "execution_count": 4,
   "id": "9cf1883d",
   "metadata": {},
   "outputs": [],
   "source": [
    "# from sklearn.model_selection import train_test_split\n",
    "\n",
    "# X_train, X_test, y_train, y_test = train_test_split(arr, targets, test_size=0.25, shuffle=False)"
   ]
  },
  {
   "cell_type": "markdown",
   "id": "2beb8a3f",
   "metadata": {},
   "source": [
    "# Algorithm\n",
    "The task is to determine the gender of the person in the given picture. For this problem, the algorithm needs to classify the datasets into two categories: man and woman.\n",
    "#### 1. DecisionTree\n",
    ": a non-parametric supervised learning method used for classification and regression.\n",
    "#### 2. RandomForest\n",
    ": a meta estimator that fits a number of decision tree classifiers on various sub-samples of the dataset and uses averaging to improve the predictive accuracy and control over-fitting.\n",
    "#### 3. SupportVector\n",
    ": a set of supervised learning methods used for classification, regression and outliers detection.\n",
    "#### 4. KNeighbors\n",
    ": a non-parametric supervised learning method. The input consists of the k closest training examples in a data set, and the output depends on whether k-NN is used for classification or regression according to Wikipedia (https://en.wikipedia.org/wiki/K-nearest_neighbors_algorithm)."
   ]
  },
  {
   "cell_type": "markdown",
   "id": "91ee8460",
   "metadata": {},
   "source": [
    "### 1. DecisionTreeClassifier"
   ]
  },
  {
   "cell_type": "code",
   "execution_count": 5,
   "id": "a7a6211c",
   "metadata": {},
   "outputs": [
    {
     "name": "stdout",
     "output_type": "stream",
     "text": [
      "[ DecisionTreeClassifier ] Accuracy: 82.02% with train data and 72.34% with test data\n"
     ]
    }
   ],
   "source": [
    "from sklearn import tree\n",
    "\n",
    "tree_clf = tree.DecisionTreeClassifier(random_state=0, max_depth=10, max_features=4).fit(X_train, y_train)\n",
    "tree_prediction = tree_clf.predict(X_test)\n",
    "# tree.plot_tree(tree_clf)\n",
    "\n",
    "tree_acc_train = tree_clf.score(X_train, y_train)\n",
    "tree_acc_test = accuracy_score(tree_prediction, y_test)\n",
    "print('[ DecisionTreeClassifier ] Accuracy: %.2f%% with train data and %.2f%% with test data'\\\n",
    "         % (tree_acc_train * 100, tree_acc_test * 100))"
   ]
  },
  {
   "cell_type": "markdown",
   "id": "3bd1cf59",
   "metadata": {},
   "source": [
    "### 2. RandomForestClassifier"
   ]
  },
  {
   "cell_type": "code",
   "execution_count": 14,
   "id": "d469c50d",
   "metadata": {},
   "outputs": [
    {
     "name": "stdout",
     "output_type": "stream",
     "text": [
      "[ RandomForestClassifier ] Accuracy: 99.98% with train data and 88.19% with test data\n"
     ]
    }
   ],
   "source": [
    "from sklearn.ensemble import RandomForestClassifier\n",
    "\n",
    "rf_clf = RandomForestClassifier().fit(X_train, y_train)\n",
    "rf_prediction = rf_clf.predict(X_test)\n",
    "\n",
    "rf_acc_train = rf_clf.score(X_train, y_train)\n",
    "rf_acc_test = accuracy_score(rf_prediction, y_test)\n",
    "print('[ RandomForestClassifier ] Accuracy: %.2f%% with train data and %.2f%% with test data'\\\n",
    "         % (rf_acc_train * 100, rf_acc_test * 100))"
   ]
  },
  {
   "cell_type": "markdown",
   "id": "117272b2",
   "metadata": {},
   "source": [
    "#### DecisionTreeClassifier vs. RandomForestClassifier\n",
    "Based on the accuracy scores, RandomForestClassifier outperformed DecisionTreeClassifier for this problem. RandomForestClassifier is more effective as it employs multiple trees, whereas DecisionTreeClassifier uses a single tree."
   ]
  },
  {
   "cell_type": "markdown",
   "id": "1fe27a77",
   "metadata": {},
   "source": [
    "### 3. SupportVectorClassifier (SVC)"
   ]
  },
  {
   "cell_type": "markdown",
   "id": "97d3b442",
   "metadata": {},
   "source": [
    "#### 3-1. SVC using OVR"
   ]
  },
  {
   "cell_type": "code",
   "execution_count": 7,
   "id": "6a8a2971",
   "metadata": {},
   "outputs": [
    {
     "name": "stdout",
     "output_type": "stream",
     "text": [
      "[ SupportVectorClassification ] Accuracy: 93.62% with train data and 88.50% with test data\n"
     ]
    }
   ],
   "source": [
    "from sklearn import svm\n",
    "\n",
    "svm_clf = svm.SVC().fit(X_train, y_train)\n",
    "svm_prediction = svm_clf.predict(X_test)\n",
    "\n",
    "svm_acc_train = svm_clf.score(X_train, y_train)\n",
    "svm_acc_test = accuracy_score(svm_prediction, y_test)\n",
    "print('[ SupportVectorClassification ] Accuracy: %.2f%% with train data and %.2f%% with test data'\\\n",
    "         % (svm_acc_train * 100, svm_acc_test * 100))"
   ]
  },
  {
   "cell_type": "markdown",
   "id": "5bc6e259",
   "metadata": {},
   "source": [
    "The decision function shapes for Support Vector Machines (SVM) are **'ovr (one-vs-rest)'** and **'ovo (one-vs-one)'**. As 'ovr' is set as the default, the above result needs to be compared with that obtained using the other decision function shape, 'ovo'."
   ]
  },
  {
   "cell_type": "markdown",
   "id": "b5feb2ef",
   "metadata": {},
   "source": [
    "#### 3-2. SVC using OVO"
   ]
  },
  {
   "cell_type": "code",
   "execution_count": 8,
   "id": "ea96aa30",
   "metadata": {},
   "outputs": [
    {
     "name": "stdout",
     "output_type": "stream",
     "text": [
      "[ SupportVectorClassification (OVO) ] Accuracy: 93.62% with train data and 88.50% with test data\n"
     ]
    }
   ],
   "source": [
    "svm_ovo_clf = svm.SVC(decision_function_shape='ovo').fit(X_train, y_train)\n",
    "svm_ovo_prediction = svm_ovo_clf.predict(X_test)\n",
    "\n",
    "svm_ovo_acc_train = svm_ovo_clf.score(X_train, y_train)\n",
    "svm_ovo_acc_test = accuracy_score(svm_ovo_prediction, y_test)\n",
    "print('[ SupportVectorClassification (OVO) ] Accuracy: %.2f%% with train data and %.2f%% with test data'\\\n",
    "         % (svm_ovo_acc_train * 100, svm_ovo_acc_test * 100))"
   ]
  },
  {
   "cell_type": "markdown",
   "id": "8f25e1b3",
   "metadata": {},
   "source": [
    "Note that 'ovo' is always used as a multi-class strategy to train models while 'ovr' is only constructed from the ovo matrix, according to the manual of sklearn (https://scikit-learn.org/stable/modules/generated/sklearn.svm.SVC.html).\n",
    "- If decision_function_shape='ovo', the function values are proportional to the distance of the samples X to the separating hyperplane.\n",
    "- If decision_function_shape=’ovr’, the decision function is a monotonic transformation of ovo decision function."
   ]
  },
  {
   "cell_type": "markdown",
   "id": "2c06ebc4",
   "metadata": {},
   "source": [
    "### 4. KNeighborsClassifier"
   ]
  },
  {
   "cell_type": "code",
   "execution_count": 9,
   "id": "3b7427c0",
   "metadata": {},
   "outputs": [
    {
     "name": "stdout",
     "output_type": "stream",
     "text": [
      "[ KNeighborsClassifier ] Accuracy: 91.90% with train data and 71.03% with test data\n"
     ]
    }
   ],
   "source": [
    "from sklearn.neighbors import KNeighborsClassifier\n",
    "\n",
    "kn_clf = KNeighborsClassifier(n_neighbors=2, metric='euclidean').fit(X_train, y_train)\n",
    "kn_prediction = kn_clf.predict(X_test)\n",
    "\n",
    "kn_acc_train = kn_clf.score(X_train, y_train)\n",
    "kn_acc_test = accuracy_score(kn_prediction, y_test)\n",
    "print('[ KNeighborsClassifier ] Accuracy: %.2f%% with train data and %.2f%% with test data'\\\n",
    "         % (kn_acc_train * 100, kn_acc_test * 100))"
   ]
  },
  {
   "cell_type": "markdown",
   "id": "cd620512",
   "metadata": {},
   "source": [
    "# The Best Classifier Method\n",
    "### based on the accuracy scores"
   ]
  },
  {
   "cell_type": "code",
   "execution_count": 15,
   "id": "10893a00",
   "metadata": {},
   "outputs": [
    {
     "name": "stdout",
     "output_type": "stream",
     "text": [
      "DecisionTree : 72.34\n",
      "RandomForest : 88.19\n",
      "SupportVector (ovr) : 88.50\n",
      "SupportVector (ovo) : 88.50\n",
      "KNeighbors : 71.03\n"
     ]
    },
    {
     "data": {
      "application/vnd.plotly.v1+json": {
       "config": {
        "plotlyServerURL": "https://plot.ly"
       },
       "data": [
        {
         "marker": {
          "color": "slateblue"
         },
         "name": "train",
         "text": [
          0.8202083333333333,
          0.9997916666666666,
          0.93625,
          0.93625,
          0.9189583333333333
         ],
         "textposition": "inside",
         "texttemplate": "%{text:.2%}",
         "type": "bar",
         "x": [
          "DecisionTree",
          "RandomForest",
          "SupportVector (ovr)",
          "SupportVector (ovo)",
          "KNeighbors"
         ],
         "y": [
          0.8202083333333333,
          0.9997916666666666,
          0.93625,
          0.93625,
          0.9189583333333333
         ]
        },
        {
         "marker": {
          "color": "rosybrown"
         },
         "name": "test",
         "text": [
          0.7234375,
          0.881875,
          0.885,
          0.885,
          0.7103125
         ],
         "textposition": "inside",
         "texttemplate": "%{text:.2%}",
         "type": "bar",
         "x": [
          "DecisionTree",
          "RandomForest",
          "SupportVector (ovr)",
          "SupportVector (ovo)",
          "KNeighbors"
         ],
         "y": [
          0.7234375,
          0.881875,
          0.885,
          0.885,
          0.7103125
         ]
        }
       ],
       "layout": {
        "template": {
         "data": {
          "bar": [
           {
            "error_x": {
             "color": "#2a3f5f"
            },
            "error_y": {
             "color": "#2a3f5f"
            },
            "marker": {
             "line": {
              "color": "#E5ECF6",
              "width": 0.5
             },
             "pattern": {
              "fillmode": "overlay",
              "size": 10,
              "solidity": 0.2
             }
            },
            "type": "bar"
           }
          ],
          "barpolar": [
           {
            "marker": {
             "line": {
              "color": "#E5ECF6",
              "width": 0.5
             },
             "pattern": {
              "fillmode": "overlay",
              "size": 10,
              "solidity": 0.2
             }
            },
            "type": "barpolar"
           }
          ],
          "carpet": [
           {
            "aaxis": {
             "endlinecolor": "#2a3f5f",
             "gridcolor": "white",
             "linecolor": "white",
             "minorgridcolor": "white",
             "startlinecolor": "#2a3f5f"
            },
            "baxis": {
             "endlinecolor": "#2a3f5f",
             "gridcolor": "white",
             "linecolor": "white",
             "minorgridcolor": "white",
             "startlinecolor": "#2a3f5f"
            },
            "type": "carpet"
           }
          ],
          "choropleth": [
           {
            "colorbar": {
             "outlinewidth": 0,
             "ticks": ""
            },
            "type": "choropleth"
           }
          ],
          "contour": [
           {
            "colorbar": {
             "outlinewidth": 0,
             "ticks": ""
            },
            "colorscale": [
             [
              0,
              "#0d0887"
             ],
             [
              0.1111111111111111,
              "#46039f"
             ],
             [
              0.2222222222222222,
              "#7201a8"
             ],
             [
              0.3333333333333333,
              "#9c179e"
             ],
             [
              0.4444444444444444,
              "#bd3786"
             ],
             [
              0.5555555555555556,
              "#d8576b"
             ],
             [
              0.6666666666666666,
              "#ed7953"
             ],
             [
              0.7777777777777778,
              "#fb9f3a"
             ],
             [
              0.8888888888888888,
              "#fdca26"
             ],
             [
              1,
              "#f0f921"
             ]
            ],
            "type": "contour"
           }
          ],
          "contourcarpet": [
           {
            "colorbar": {
             "outlinewidth": 0,
             "ticks": ""
            },
            "type": "contourcarpet"
           }
          ],
          "heatmap": [
           {
            "colorbar": {
             "outlinewidth": 0,
             "ticks": ""
            },
            "colorscale": [
             [
              0,
              "#0d0887"
             ],
             [
              0.1111111111111111,
              "#46039f"
             ],
             [
              0.2222222222222222,
              "#7201a8"
             ],
             [
              0.3333333333333333,
              "#9c179e"
             ],
             [
              0.4444444444444444,
              "#bd3786"
             ],
             [
              0.5555555555555556,
              "#d8576b"
             ],
             [
              0.6666666666666666,
              "#ed7953"
             ],
             [
              0.7777777777777778,
              "#fb9f3a"
             ],
             [
              0.8888888888888888,
              "#fdca26"
             ],
             [
              1,
              "#f0f921"
             ]
            ],
            "type": "heatmap"
           }
          ],
          "heatmapgl": [
           {
            "colorbar": {
             "outlinewidth": 0,
             "ticks": ""
            },
            "colorscale": [
             [
              0,
              "#0d0887"
             ],
             [
              0.1111111111111111,
              "#46039f"
             ],
             [
              0.2222222222222222,
              "#7201a8"
             ],
             [
              0.3333333333333333,
              "#9c179e"
             ],
             [
              0.4444444444444444,
              "#bd3786"
             ],
             [
              0.5555555555555556,
              "#d8576b"
             ],
             [
              0.6666666666666666,
              "#ed7953"
             ],
             [
              0.7777777777777778,
              "#fb9f3a"
             ],
             [
              0.8888888888888888,
              "#fdca26"
             ],
             [
              1,
              "#f0f921"
             ]
            ],
            "type": "heatmapgl"
           }
          ],
          "histogram": [
           {
            "marker": {
             "pattern": {
              "fillmode": "overlay",
              "size": 10,
              "solidity": 0.2
             }
            },
            "type": "histogram"
           }
          ],
          "histogram2d": [
           {
            "colorbar": {
             "outlinewidth": 0,
             "ticks": ""
            },
            "colorscale": [
             [
              0,
              "#0d0887"
             ],
             [
              0.1111111111111111,
              "#46039f"
             ],
             [
              0.2222222222222222,
              "#7201a8"
             ],
             [
              0.3333333333333333,
              "#9c179e"
             ],
             [
              0.4444444444444444,
              "#bd3786"
             ],
             [
              0.5555555555555556,
              "#d8576b"
             ],
             [
              0.6666666666666666,
              "#ed7953"
             ],
             [
              0.7777777777777778,
              "#fb9f3a"
             ],
             [
              0.8888888888888888,
              "#fdca26"
             ],
             [
              1,
              "#f0f921"
             ]
            ],
            "type": "histogram2d"
           }
          ],
          "histogram2dcontour": [
           {
            "colorbar": {
             "outlinewidth": 0,
             "ticks": ""
            },
            "colorscale": [
             [
              0,
              "#0d0887"
             ],
             [
              0.1111111111111111,
              "#46039f"
             ],
             [
              0.2222222222222222,
              "#7201a8"
             ],
             [
              0.3333333333333333,
              "#9c179e"
             ],
             [
              0.4444444444444444,
              "#bd3786"
             ],
             [
              0.5555555555555556,
              "#d8576b"
             ],
             [
              0.6666666666666666,
              "#ed7953"
             ],
             [
              0.7777777777777778,
              "#fb9f3a"
             ],
             [
              0.8888888888888888,
              "#fdca26"
             ],
             [
              1,
              "#f0f921"
             ]
            ],
            "type": "histogram2dcontour"
           }
          ],
          "mesh3d": [
           {
            "colorbar": {
             "outlinewidth": 0,
             "ticks": ""
            },
            "type": "mesh3d"
           }
          ],
          "parcoords": [
           {
            "line": {
             "colorbar": {
              "outlinewidth": 0,
              "ticks": ""
             }
            },
            "type": "parcoords"
           }
          ],
          "pie": [
           {
            "automargin": true,
            "type": "pie"
           }
          ],
          "scatter": [
           {
            "fillpattern": {
             "fillmode": "overlay",
             "size": 10,
             "solidity": 0.2
            },
            "type": "scatter"
           }
          ],
          "scatter3d": [
           {
            "line": {
             "colorbar": {
              "outlinewidth": 0,
              "ticks": ""
             }
            },
            "marker": {
             "colorbar": {
              "outlinewidth": 0,
              "ticks": ""
             }
            },
            "type": "scatter3d"
           }
          ],
          "scattercarpet": [
           {
            "marker": {
             "colorbar": {
              "outlinewidth": 0,
              "ticks": ""
             }
            },
            "type": "scattercarpet"
           }
          ],
          "scattergeo": [
           {
            "marker": {
             "colorbar": {
              "outlinewidth": 0,
              "ticks": ""
             }
            },
            "type": "scattergeo"
           }
          ],
          "scattergl": [
           {
            "marker": {
             "colorbar": {
              "outlinewidth": 0,
              "ticks": ""
             }
            },
            "type": "scattergl"
           }
          ],
          "scattermapbox": [
           {
            "marker": {
             "colorbar": {
              "outlinewidth": 0,
              "ticks": ""
             }
            },
            "type": "scattermapbox"
           }
          ],
          "scatterpolar": [
           {
            "marker": {
             "colorbar": {
              "outlinewidth": 0,
              "ticks": ""
             }
            },
            "type": "scatterpolar"
           }
          ],
          "scatterpolargl": [
           {
            "marker": {
             "colorbar": {
              "outlinewidth": 0,
              "ticks": ""
             }
            },
            "type": "scatterpolargl"
           }
          ],
          "scatterternary": [
           {
            "marker": {
             "colorbar": {
              "outlinewidth": 0,
              "ticks": ""
             }
            },
            "type": "scatterternary"
           }
          ],
          "surface": [
           {
            "colorbar": {
             "outlinewidth": 0,
             "ticks": ""
            },
            "colorscale": [
             [
              0,
              "#0d0887"
             ],
             [
              0.1111111111111111,
              "#46039f"
             ],
             [
              0.2222222222222222,
              "#7201a8"
             ],
             [
              0.3333333333333333,
              "#9c179e"
             ],
             [
              0.4444444444444444,
              "#bd3786"
             ],
             [
              0.5555555555555556,
              "#d8576b"
             ],
             [
              0.6666666666666666,
              "#ed7953"
             ],
             [
              0.7777777777777778,
              "#fb9f3a"
             ],
             [
              0.8888888888888888,
              "#fdca26"
             ],
             [
              1,
              "#f0f921"
             ]
            ],
            "type": "surface"
           }
          ],
          "table": [
           {
            "cells": {
             "fill": {
              "color": "#EBF0F8"
             },
             "line": {
              "color": "white"
             }
            },
            "header": {
             "fill": {
              "color": "#C8D4E3"
             },
             "line": {
              "color": "white"
             }
            },
            "type": "table"
           }
          ]
         },
         "layout": {
          "annotationdefaults": {
           "arrowcolor": "#2a3f5f",
           "arrowhead": 0,
           "arrowwidth": 1
          },
          "autotypenumbers": "strict",
          "coloraxis": {
           "colorbar": {
            "outlinewidth": 0,
            "ticks": ""
           }
          },
          "colorscale": {
           "diverging": [
            [
             0,
             "#8e0152"
            ],
            [
             0.1,
             "#c51b7d"
            ],
            [
             0.2,
             "#de77ae"
            ],
            [
             0.3,
             "#f1b6da"
            ],
            [
             0.4,
             "#fde0ef"
            ],
            [
             0.5,
             "#f7f7f7"
            ],
            [
             0.6,
             "#e6f5d0"
            ],
            [
             0.7,
             "#b8e186"
            ],
            [
             0.8,
             "#7fbc41"
            ],
            [
             0.9,
             "#4d9221"
            ],
            [
             1,
             "#276419"
            ]
           ],
           "sequential": [
            [
             0,
             "#0d0887"
            ],
            [
             0.1111111111111111,
             "#46039f"
            ],
            [
             0.2222222222222222,
             "#7201a8"
            ],
            [
             0.3333333333333333,
             "#9c179e"
            ],
            [
             0.4444444444444444,
             "#bd3786"
            ],
            [
             0.5555555555555556,
             "#d8576b"
            ],
            [
             0.6666666666666666,
             "#ed7953"
            ],
            [
             0.7777777777777778,
             "#fb9f3a"
            ],
            [
             0.8888888888888888,
             "#fdca26"
            ],
            [
             1,
             "#f0f921"
            ]
           ],
           "sequentialminus": [
            [
             0,
             "#0d0887"
            ],
            [
             0.1111111111111111,
             "#46039f"
            ],
            [
             0.2222222222222222,
             "#7201a8"
            ],
            [
             0.3333333333333333,
             "#9c179e"
            ],
            [
             0.4444444444444444,
             "#bd3786"
            ],
            [
             0.5555555555555556,
             "#d8576b"
            ],
            [
             0.6666666666666666,
             "#ed7953"
            ],
            [
             0.7777777777777778,
             "#fb9f3a"
            ],
            [
             0.8888888888888888,
             "#fdca26"
            ],
            [
             1,
             "#f0f921"
            ]
           ]
          },
          "colorway": [
           "#636efa",
           "#EF553B",
           "#00cc96",
           "#ab63fa",
           "#FFA15A",
           "#19d3f3",
           "#FF6692",
           "#B6E880",
           "#FF97FF",
           "#FECB52"
          ],
          "font": {
           "color": "#2a3f5f"
          },
          "geo": {
           "bgcolor": "white",
           "lakecolor": "white",
           "landcolor": "#E5ECF6",
           "showlakes": true,
           "showland": true,
           "subunitcolor": "white"
          },
          "hoverlabel": {
           "align": "left"
          },
          "hovermode": "closest",
          "mapbox": {
           "style": "light"
          },
          "paper_bgcolor": "white",
          "plot_bgcolor": "#E5ECF6",
          "polar": {
           "angularaxis": {
            "gridcolor": "white",
            "linecolor": "white",
            "ticks": ""
           },
           "bgcolor": "#E5ECF6",
           "radialaxis": {
            "gridcolor": "white",
            "linecolor": "white",
            "ticks": ""
           }
          },
          "scene": {
           "xaxis": {
            "backgroundcolor": "#E5ECF6",
            "gridcolor": "white",
            "gridwidth": 2,
            "linecolor": "white",
            "showbackground": true,
            "ticks": "",
            "zerolinecolor": "white"
           },
           "yaxis": {
            "backgroundcolor": "#E5ECF6",
            "gridcolor": "white",
            "gridwidth": 2,
            "linecolor": "white",
            "showbackground": true,
            "ticks": "",
            "zerolinecolor": "white"
           },
           "zaxis": {
            "backgroundcolor": "#E5ECF6",
            "gridcolor": "white",
            "gridwidth": 2,
            "linecolor": "white",
            "showbackground": true,
            "ticks": "",
            "zerolinecolor": "white"
           }
          },
          "shapedefaults": {
           "line": {
            "color": "#2a3f5f"
           }
          },
          "ternary": {
           "aaxis": {
            "gridcolor": "white",
            "linecolor": "white",
            "ticks": ""
           },
           "baxis": {
            "gridcolor": "white",
            "linecolor": "white",
            "ticks": ""
           },
           "bgcolor": "#E5ECF6",
           "caxis": {
            "gridcolor": "white",
            "linecolor": "white",
            "ticks": ""
           }
          },
          "title": {
           "x": 0.05
          },
          "xaxis": {
           "automargin": true,
           "gridcolor": "white",
           "linecolor": "white",
           "ticks": "",
           "title": {
            "standoff": 15
           },
           "zerolinecolor": "white",
           "zerolinewidth": 2
          },
          "yaxis": {
           "automargin": true,
           "gridcolor": "white",
           "linecolor": "white",
           "ticks": "",
           "title": {
            "standoff": 15
           },
           "zerolinecolor": "white",
           "zerolinewidth": 2
          }
         }
        },
        "yaxis": {
         "range": [
          0,
          1
         ]
        }
       }
      },
      "text/html": [
       "<div>                            <div id=\"61f48450-e186-4d70-8fe7-4f926638a0bc\" class=\"plotly-graph-div\" style=\"height:525px; width:100%;\"></div>            <script type=\"text/javascript\">                require([\"plotly\"], function(Plotly) {                    window.PLOTLYENV=window.PLOTLYENV || {};                                    if (document.getElementById(\"61f48450-e186-4d70-8fe7-4f926638a0bc\")) {                    Plotly.newPlot(                        \"61f48450-e186-4d70-8fe7-4f926638a0bc\",                        [{\"marker\":{\"color\":\"slateblue\"},\"name\":\"train\",\"text\":[0.8202083333333333,0.9997916666666666,0.93625,0.93625,0.9189583333333333],\"x\":[\"DecisionTree\",\"RandomForest\",\"SupportVector (ovr)\",\"SupportVector (ovo)\",\"KNeighbors\"],\"y\":[0.8202083333333333,0.9997916666666666,0.93625,0.93625,0.9189583333333333],\"type\":\"bar\",\"textposition\":\"inside\",\"texttemplate\":\"%{text:.2%}\"},{\"marker\":{\"color\":\"rosybrown\"},\"name\":\"test\",\"text\":[0.7234375,0.881875,0.885,0.885,0.7103125],\"x\":[\"DecisionTree\",\"RandomForest\",\"SupportVector (ovr)\",\"SupportVector (ovo)\",\"KNeighbors\"],\"y\":[0.7234375,0.881875,0.885,0.885,0.7103125],\"type\":\"bar\",\"textposition\":\"inside\",\"texttemplate\":\"%{text:.2%}\"}],                        {\"template\":{\"data\":{\"histogram2dcontour\":[{\"type\":\"histogram2dcontour\",\"colorbar\":{\"outlinewidth\":0,\"ticks\":\"\"},\"colorscale\":[[0.0,\"#0d0887\"],[0.1111111111111111,\"#46039f\"],[0.2222222222222222,\"#7201a8\"],[0.3333333333333333,\"#9c179e\"],[0.4444444444444444,\"#bd3786\"],[0.5555555555555556,\"#d8576b\"],[0.6666666666666666,\"#ed7953\"],[0.7777777777777778,\"#fb9f3a\"],[0.8888888888888888,\"#fdca26\"],[1.0,\"#f0f921\"]]}],\"choropleth\":[{\"type\":\"choropleth\",\"colorbar\":{\"outlinewidth\":0,\"ticks\":\"\"}}],\"histogram2d\":[{\"type\":\"histogram2d\",\"colorbar\":{\"outlinewidth\":0,\"ticks\":\"\"},\"colorscale\":[[0.0,\"#0d0887\"],[0.1111111111111111,\"#46039f\"],[0.2222222222222222,\"#7201a8\"],[0.3333333333333333,\"#9c179e\"],[0.4444444444444444,\"#bd3786\"],[0.5555555555555556,\"#d8576b\"],[0.6666666666666666,\"#ed7953\"],[0.7777777777777778,\"#fb9f3a\"],[0.8888888888888888,\"#fdca26\"],[1.0,\"#f0f921\"]]}],\"heatmap\":[{\"type\":\"heatmap\",\"colorbar\":{\"outlinewidth\":0,\"ticks\":\"\"},\"colorscale\":[[0.0,\"#0d0887\"],[0.1111111111111111,\"#46039f\"],[0.2222222222222222,\"#7201a8\"],[0.3333333333333333,\"#9c179e\"],[0.4444444444444444,\"#bd3786\"],[0.5555555555555556,\"#d8576b\"],[0.6666666666666666,\"#ed7953\"],[0.7777777777777778,\"#fb9f3a\"],[0.8888888888888888,\"#fdca26\"],[1.0,\"#f0f921\"]]}],\"heatmapgl\":[{\"type\":\"heatmapgl\",\"colorbar\":{\"outlinewidth\":0,\"ticks\":\"\"},\"colorscale\":[[0.0,\"#0d0887\"],[0.1111111111111111,\"#46039f\"],[0.2222222222222222,\"#7201a8\"],[0.3333333333333333,\"#9c179e\"],[0.4444444444444444,\"#bd3786\"],[0.5555555555555556,\"#d8576b\"],[0.6666666666666666,\"#ed7953\"],[0.7777777777777778,\"#fb9f3a\"],[0.8888888888888888,\"#fdca26\"],[1.0,\"#f0f921\"]]}],\"contourcarpet\":[{\"type\":\"contourcarpet\",\"colorbar\":{\"outlinewidth\":0,\"ticks\":\"\"}}],\"contour\":[{\"type\":\"contour\",\"colorbar\":{\"outlinewidth\":0,\"ticks\":\"\"},\"colorscale\":[[0.0,\"#0d0887\"],[0.1111111111111111,\"#46039f\"],[0.2222222222222222,\"#7201a8\"],[0.3333333333333333,\"#9c179e\"],[0.4444444444444444,\"#bd3786\"],[0.5555555555555556,\"#d8576b\"],[0.6666666666666666,\"#ed7953\"],[0.7777777777777778,\"#fb9f3a\"],[0.8888888888888888,\"#fdca26\"],[1.0,\"#f0f921\"]]}],\"surface\":[{\"type\":\"surface\",\"colorbar\":{\"outlinewidth\":0,\"ticks\":\"\"},\"colorscale\":[[0.0,\"#0d0887\"],[0.1111111111111111,\"#46039f\"],[0.2222222222222222,\"#7201a8\"],[0.3333333333333333,\"#9c179e\"],[0.4444444444444444,\"#bd3786\"],[0.5555555555555556,\"#d8576b\"],[0.6666666666666666,\"#ed7953\"],[0.7777777777777778,\"#fb9f3a\"],[0.8888888888888888,\"#fdca26\"],[1.0,\"#f0f921\"]]}],\"mesh3d\":[{\"type\":\"mesh3d\",\"colorbar\":{\"outlinewidth\":0,\"ticks\":\"\"}}],\"scatter\":[{\"fillpattern\":{\"fillmode\":\"overlay\",\"size\":10,\"solidity\":0.2},\"type\":\"scatter\"}],\"parcoords\":[{\"type\":\"parcoords\",\"line\":{\"colorbar\":{\"outlinewidth\":0,\"ticks\":\"\"}}}],\"scatterpolargl\":[{\"type\":\"scatterpolargl\",\"marker\":{\"colorbar\":{\"outlinewidth\":0,\"ticks\":\"\"}}}],\"bar\":[{\"error_x\":{\"color\":\"#2a3f5f\"},\"error_y\":{\"color\":\"#2a3f5f\"},\"marker\":{\"line\":{\"color\":\"#E5ECF6\",\"width\":0.5},\"pattern\":{\"fillmode\":\"overlay\",\"size\":10,\"solidity\":0.2}},\"type\":\"bar\"}],\"scattergeo\":[{\"type\":\"scattergeo\",\"marker\":{\"colorbar\":{\"outlinewidth\":0,\"ticks\":\"\"}}}],\"scatterpolar\":[{\"type\":\"scatterpolar\",\"marker\":{\"colorbar\":{\"outlinewidth\":0,\"ticks\":\"\"}}}],\"histogram\":[{\"marker\":{\"pattern\":{\"fillmode\":\"overlay\",\"size\":10,\"solidity\":0.2}},\"type\":\"histogram\"}],\"scattergl\":[{\"type\":\"scattergl\",\"marker\":{\"colorbar\":{\"outlinewidth\":0,\"ticks\":\"\"}}}],\"scatter3d\":[{\"type\":\"scatter3d\",\"line\":{\"colorbar\":{\"outlinewidth\":0,\"ticks\":\"\"}},\"marker\":{\"colorbar\":{\"outlinewidth\":0,\"ticks\":\"\"}}}],\"scattermapbox\":[{\"type\":\"scattermapbox\",\"marker\":{\"colorbar\":{\"outlinewidth\":0,\"ticks\":\"\"}}}],\"scatterternary\":[{\"type\":\"scatterternary\",\"marker\":{\"colorbar\":{\"outlinewidth\":0,\"ticks\":\"\"}}}],\"scattercarpet\":[{\"type\":\"scattercarpet\",\"marker\":{\"colorbar\":{\"outlinewidth\":0,\"ticks\":\"\"}}}],\"carpet\":[{\"aaxis\":{\"endlinecolor\":\"#2a3f5f\",\"gridcolor\":\"white\",\"linecolor\":\"white\",\"minorgridcolor\":\"white\",\"startlinecolor\":\"#2a3f5f\"},\"baxis\":{\"endlinecolor\":\"#2a3f5f\",\"gridcolor\":\"white\",\"linecolor\":\"white\",\"minorgridcolor\":\"white\",\"startlinecolor\":\"#2a3f5f\"},\"type\":\"carpet\"}],\"table\":[{\"cells\":{\"fill\":{\"color\":\"#EBF0F8\"},\"line\":{\"color\":\"white\"}},\"header\":{\"fill\":{\"color\":\"#C8D4E3\"},\"line\":{\"color\":\"white\"}},\"type\":\"table\"}],\"barpolar\":[{\"marker\":{\"line\":{\"color\":\"#E5ECF6\",\"width\":0.5},\"pattern\":{\"fillmode\":\"overlay\",\"size\":10,\"solidity\":0.2}},\"type\":\"barpolar\"}],\"pie\":[{\"automargin\":true,\"type\":\"pie\"}]},\"layout\":{\"autotypenumbers\":\"strict\",\"colorway\":[\"#636efa\",\"#EF553B\",\"#00cc96\",\"#ab63fa\",\"#FFA15A\",\"#19d3f3\",\"#FF6692\",\"#B6E880\",\"#FF97FF\",\"#FECB52\"],\"font\":{\"color\":\"#2a3f5f\"},\"hovermode\":\"closest\",\"hoverlabel\":{\"align\":\"left\"},\"paper_bgcolor\":\"white\",\"plot_bgcolor\":\"#E5ECF6\",\"polar\":{\"bgcolor\":\"#E5ECF6\",\"angularaxis\":{\"gridcolor\":\"white\",\"linecolor\":\"white\",\"ticks\":\"\"},\"radialaxis\":{\"gridcolor\":\"white\",\"linecolor\":\"white\",\"ticks\":\"\"}},\"ternary\":{\"bgcolor\":\"#E5ECF6\",\"aaxis\":{\"gridcolor\":\"white\",\"linecolor\":\"white\",\"ticks\":\"\"},\"baxis\":{\"gridcolor\":\"white\",\"linecolor\":\"white\",\"ticks\":\"\"},\"caxis\":{\"gridcolor\":\"white\",\"linecolor\":\"white\",\"ticks\":\"\"}},\"coloraxis\":{\"colorbar\":{\"outlinewidth\":0,\"ticks\":\"\"}},\"colorscale\":{\"sequential\":[[0.0,\"#0d0887\"],[0.1111111111111111,\"#46039f\"],[0.2222222222222222,\"#7201a8\"],[0.3333333333333333,\"#9c179e\"],[0.4444444444444444,\"#bd3786\"],[0.5555555555555556,\"#d8576b\"],[0.6666666666666666,\"#ed7953\"],[0.7777777777777778,\"#fb9f3a\"],[0.8888888888888888,\"#fdca26\"],[1.0,\"#f0f921\"]],\"sequentialminus\":[[0.0,\"#0d0887\"],[0.1111111111111111,\"#46039f\"],[0.2222222222222222,\"#7201a8\"],[0.3333333333333333,\"#9c179e\"],[0.4444444444444444,\"#bd3786\"],[0.5555555555555556,\"#d8576b\"],[0.6666666666666666,\"#ed7953\"],[0.7777777777777778,\"#fb9f3a\"],[0.8888888888888888,\"#fdca26\"],[1.0,\"#f0f921\"]],\"diverging\":[[0,\"#8e0152\"],[0.1,\"#c51b7d\"],[0.2,\"#de77ae\"],[0.3,\"#f1b6da\"],[0.4,\"#fde0ef\"],[0.5,\"#f7f7f7\"],[0.6,\"#e6f5d0\"],[0.7,\"#b8e186\"],[0.8,\"#7fbc41\"],[0.9,\"#4d9221\"],[1,\"#276419\"]]},\"xaxis\":{\"gridcolor\":\"white\",\"linecolor\":\"white\",\"ticks\":\"\",\"title\":{\"standoff\":15},\"zerolinecolor\":\"white\",\"automargin\":true,\"zerolinewidth\":2},\"yaxis\":{\"gridcolor\":\"white\",\"linecolor\":\"white\",\"ticks\":\"\",\"title\":{\"standoff\":15},\"zerolinecolor\":\"white\",\"automargin\":true,\"zerolinewidth\":2},\"scene\":{\"xaxis\":{\"backgroundcolor\":\"#E5ECF6\",\"gridcolor\":\"white\",\"linecolor\":\"white\",\"showbackground\":true,\"ticks\":\"\",\"zerolinecolor\":\"white\",\"gridwidth\":2},\"yaxis\":{\"backgroundcolor\":\"#E5ECF6\",\"gridcolor\":\"white\",\"linecolor\":\"white\",\"showbackground\":true,\"ticks\":\"\",\"zerolinecolor\":\"white\",\"gridwidth\":2},\"zaxis\":{\"backgroundcolor\":\"#E5ECF6\",\"gridcolor\":\"white\",\"linecolor\":\"white\",\"showbackground\":true,\"ticks\":\"\",\"zerolinecolor\":\"white\",\"gridwidth\":2}},\"shapedefaults\":{\"line\":{\"color\":\"#2a3f5f\"}},\"annotationdefaults\":{\"arrowcolor\":\"#2a3f5f\",\"arrowhead\":0,\"arrowwidth\":1},\"geo\":{\"bgcolor\":\"white\",\"landcolor\":\"#E5ECF6\",\"subunitcolor\":\"white\",\"showland\":true,\"showlakes\":true,\"lakecolor\":\"white\"},\"title\":{\"x\":0.05},\"mapbox\":{\"style\":\"light\"}}},\"yaxis\":{\"range\":[0,1]}},                        {\"responsive\": true}                    ).then(function(){\n",
       "                            \n",
       "var gd = document.getElementById('61f48450-e186-4d70-8fe7-4f926638a0bc');\n",
       "var x = new MutationObserver(function (mutations, observer) {{\n",
       "        var display = window.getComputedStyle(gd).display;\n",
       "        if (!display || display === 'none') {{\n",
       "            console.log([gd, 'removed!']);\n",
       "            Plotly.purge(gd);\n",
       "            observer.disconnect();\n",
       "        }}\n",
       "}});\n",
       "\n",
       "// Listen for the removal of the full notebook cells\n",
       "var notebookContainer = gd.closest('#notebook-container');\n",
       "if (notebookContainer) {{\n",
       "    x.observe(notebookContainer, {childList: true});\n",
       "}}\n",
       "\n",
       "// Listen for the clearing of the current output cell\n",
       "var outputEl = gd.closest('.output');\n",
       "if (outputEl) {{\n",
       "    x.observe(outputEl, {childList: true});\n",
       "}}\n",
       "\n",
       "                        })                };                });            </script>        </div>"
      ]
     },
     "metadata": {},
     "output_type": "display_data"
    },
    {
     "name": "stdout",
     "output_type": "stream",
     "text": [
      "The best  classifier for this problem is SupportVector (ovr) (88.50%)\n",
      "The worst classifier for this problem is KNeighbors (71.03%)\n"
     ]
    }
   ],
   "source": [
    "# Prepare the resources for visualisation\n",
    "methods = ['DecisionTree', 'RandomForest', 'SupportVector (ovr)', 'SupportVector (ovo)', 'KNeighbors']\n",
    "acc_test = np.array([ tree_acc_test, rf_acc_test, svm_acc_test, svm_ovo_acc_test, kn_acc_test ])\n",
    "acc_train = np.array([ tree_acc_train, rf_acc_train, svm_acc_train, svm_ovo_acc_train, kn_acc_train ])\n",
    "# acc_test = np.array([ round(acc, 2) for acc in acc_test ])\n",
    "\n",
    "acc_mth = dict(zip(methods, acc_test))\n",
    "acc_max = np.argmax(acc_test)\n",
    "acc_min = np.argmin(acc_test)\n",
    "\n",
    "# Print the accuracy scores for the classifiers\n",
    "for acc in acc_mth:\n",
    "    print('%s : %.2f' % (acc, (acc_mth[acc] * 100)))\n",
    "\n",
    "import plotly.graph_objs as go\n",
    "\n",
    "# Draw the accuracy scores for both training and test data for each classifier\n",
    "trace_test = go.Bar(x=methods, y=acc_test, name='test', text=acc_test, marker_color='rosybrown')\n",
    "trace_train = go.Bar(x=methods, y=acc_train, name='train', text=acc_train, marker_color='slateblue')\n",
    "fig = go.Figure(data=[trace_train, trace_test])\n",
    "fig.update_layout(yaxis_range=[0, 1])\n",
    "fig.update_traces(texttemplate='%{text:.2%}', textposition='inside')\n",
    "fig.show()\n",
    "\n",
    "print('The best  classifier for this problem is %s (%.2f%%)' % (methods[acc_max], acc_test[acc_max] * 100))\n",
    "print('The worst classifier for this problem is %s (%.2f%%)' % (methods[acc_min], acc_test[acc_min] * 100))"
   ]
  },
  {
   "cell_type": "code",
   "execution_count": null,
   "id": "d5fd0710",
   "metadata": {},
   "outputs": [],
   "source": []
  }
 ],
 "metadata": {
  "kernelspec": {
   "display_name": "Python 3 (ipykernel)",
   "language": "python",
   "name": "python3"
  },
  "language_info": {
   "codemirror_mode": {
    "name": "ipython",
    "version": 3
   },
   "file_extension": ".py",
   "mimetype": "text/x-python",
   "name": "python",
   "nbconvert_exporter": "python",
   "pygments_lexer": "ipython3",
   "version": "3.11.4"
  }
 },
 "nbformat": 4,
 "nbformat_minor": 5
}
