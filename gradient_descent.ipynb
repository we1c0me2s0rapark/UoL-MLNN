{
  "nbformat": 4,
  "nbformat_minor": 0,
  "metadata": {
    "colab": {
      "provenance": []
    },
    "kernelspec": {
      "name": "python3",
      "display_name": "Python 3"
    },
    "language_info": {
      "name": "python"
    }
  },
  "cells": [
    {
      "cell_type": "code",
      "execution_count": 1,
      "metadata": {
        "id": "hC6_1z7-UlK1"
      },
      "outputs": [],
      "source": [
        "import numpy as np\n",
        "import matplotlib.pyplot as plt\n",
        "from sklearn import datasets, linear_model\n",
        "from sklearn.metrics import mean_squared_error, r2_score"
      ]
    },
    {
      "cell_type": "code",
      "source": [
        "# Load the diabetes dataset\n",
        "diabetes = datasets.load_diabetes()\n",
        "\n",
        "# Select 10% for testing and 90% for training\n",
        "data_len = len(diabetes.target)\n",
        "nTestSamples = int(0.1 * data_len)\n",
        "idx_test = np.arange(1, nTestSamples)\n",
        "idx_train = np.arange(idx_test[-1] + 1, data_len - idx_test[-1])\n",
        "\n",
        "# Extract the bmi feature\n",
        "print(diabetes.feature_names[2])\n",
        "X_diabetes = diabetes.data[:, np.newaxis, 2]\n",
        "X_test = X_diabetes[idx_test]\n",
        "X_train = X_diabetes[idx_train]\n",
        "y_test = diabetes.target[idx_test]\n",
        "y_train = diabetes.target[idx_train]"
      ],
      "metadata": {
        "colab": {
          "base_uri": "https://localhost:8080/"
        },
        "id": "2aYG0tAmUzUv",
        "outputId": "a02c849f-33f2-4afb-eed9-f4b638480ba5"
      },
      "execution_count": 11,
      "outputs": [
        {
          "output_type": "stream",
          "name": "stdout",
          "text": [
            "bmi\n"
          ]
        }
      ]
    },
    {
      "cell_type": "code",
      "source": [
        "# For comparison purposes, create linear regression object\n",
        "regr = linear_model.LinearRegression()\n",
        "\n",
        "# Train the model using the training sets\n",
        "regr.fit(X_train, y_train)\n",
        "\n",
        "# Make predictions using the testing set\n",
        "y_pred = regr.predict(X_test)\n",
        "\n",
        "# The coefficients\n",
        "print(\"Intercept (theta 0): \\n\", regr.intercept_)\n",
        "print(\"Coefficients (theta 1): \\n\", regr.coef_)\n",
        "\n",
        "# The mean squared error\n",
        "print(\"Mean squared error: %.2f\" % mean_squared_error(y_test, y_pred))"
      ],
      "metadata": {
        "colab": {
          "base_uri": "https://localhost:8080/"
        },
        "id": "MofOjQWEVU-p",
        "outputId": "bce9767e-8cbd-4b40-9021-2ac146557eff"
      },
      "execution_count": 13,
      "outputs": [
        {
          "output_type": "stream",
          "name": "stdout",
          "text": [
            "Intercept (theta 0): \n",
            " 153.73201108209992\n",
            "Coefficients (theta 1): \n",
            " [958.76368869]\n",
            "Mean squared error: 3956.25\n"
          ]
        }
      ]
    },
    {
      "cell_type": "code",
      "source": [
        "# Plot outputs\n",
        "plt.scatter(X_test, y_test, color=\"black\")\n",
        "plt.plot(X_test, y_pred, color=\"blue\", linewidth=3)\n",
        "\n",
        "plt.show()"
      ],
      "metadata": {
        "colab": {
          "base_uri": "https://localhost:8080/",
          "height": 430
        },
        "id": "S66T5oxUWjqs",
        "outputId": "f37389b8-8b05-43d2-c0bf-62618f230676"
      },
      "execution_count": 14,
      "outputs": [
        {
          "output_type": "display_data",
          "data": {
            "text/plain": [
              "<Figure size 640x480 with 1 Axes>"
            ],
            "image/png": "[encoded data removed]"
          },
          "metadata": {}
        }
      ]
    },
    {
      "cell_type": "code",
      "source": [
        "# Hypothesis function\n",
        "def h_lin(X, theta):\n",
        "  \"\"\"\n",
        "  X should be a data vector, theta the parameters\n",
        "  \"\"\"\n",
        "  return theta[0] + X * theta[1:]"
      ],
      "metadata": {
        "id": "uevDHpqdXGXo"
      },
      "execution_count": 15,
      "outputs": []
    },
    {
      "cell_type": "code",
      "source": [
        "# loss function\n",
        "def loss_L2(h, y):\n",
        "  \"\"\"\n",
        "  h is a vector of predictions by the hypothesis function, y is the target\n",
        "  \"\"\"\n",
        "  return np.mean([(a-b)**2 for a, b in zip(h.flatten(), y)])\n",
        "hypo = h_lin(X_test, [150, 958])\n",
        "# print(\"hypothesis:\", hypo)\n",
        "print(\"loss:\", loss_L2(hypo, y_test))"
      ],
      "metadata": {
        "colab": {
          "base_uri": "https://localhost:8080/"
        },
        "id": "F5Nl-f_NaDKb",
        "outputId": "498964ed-3673-40d0-c1fc-5059b656c4e1"
      },
      "execution_count": 20,
      "outputs": [
        {
          "output_type": "stream",
          "name": "stdout",
          "text": [
            "loss: 3920.3894415510895\n"
          ]
        }
      ]
    },
    {
      "cell_type": "code",
      "source": [
        "# Calculate the gradients\n",
        "def gradient_batch(theta, X, y):\n",
        "  grad = [0, 0]\n",
        "\n",
        "  h = h_lin(X, theta)\n",
        "  residuals = [(a-b) for a, b in zip(h.flatten(), y)]\n",
        "\n",
        "  grad[0] = np.mean(residuals)\n",
        "  grad[1] = X[:, 0].dot(residuals) / len(y) # Calculate the mean\n",
        "\n",
        "  return np.array(grad)"
      ],
      "metadata": {
        "id": "knqfXE0FajCN"
      },
      "execution_count": 21,
      "outputs": []
    },
    {
      "cell_type": "code",
      "source": [
        "# Set initial theta values\n",
        "theta = [100, 100]\n",
        "\n",
        "# Set stopping criterion\n",
        "loss_stop_threshold = 0.1\n",
        "\n",
        "# Learning rate\n",
        "alpha = 0.1\n",
        "\n",
        "def batch_gd(X, y, theta, alpha, loss_stop_threshold):\n",
        "  # Initial loss value\n",
        "  loss = loss_L2(h_lin(X, theta), y)\n",
        "  old_loss = loss + loss_stop_threshold\n",
        "\n",
        "  # Loop through\n",
        "  while (abs(old_loss - loss) > loss_stop_threshold):\n",
        "    # Gradient descent update rules\n",
        "    gradients = gradient_batch(theta, X, y)\n",
        "    theta = theta - alpha * gradients\n",
        "\n",
        "    # Update loss values\n",
        "    old_loss = loss\n",
        "    loss = loss_L2(h_lin(X, theta), y)\n",
        "\n",
        "  print(\"GD stopped at loss %s, with coefficients: %s\" % (loss, theta))\n",
        "  return theta\n",
        "\n",
        "theta = batch_gd(X_train, y_train, theta, alpha, loss_stop_threshold)"
      ],
      "metadata": {
        "colab": {
          "base_uri": "https://localhost:8080/"
        },
        "id": "oa4RqlYZbkS3",
        "outputId": "5f5a1f82-fad4-4050-a2e7-220f33b2dfba"
      },
      "execution_count": 23,
      "outputs": [
        {
          "output_type": "stream",
          "name": "stdout",
          "text": [
            "GD stopped at loss 4197.149392452885, with coefficients: [153.70863843 639.52517709]\n"
          ]
        }
      ]
    },
    {
      "cell_type": "code",
      "source": [
        "# Train the algorithm using the training data, then test it using the test set\n",
        "y_pred = h_lin(X_test, theta)\n",
        "\n",
        "# Coefficients\n",
        "print(\"Intercept (theta 0): \\n\", theta[0])\n",
        "print(\"Coefficients (theta 1): \\n\", theta[1])\n",
        "\n",
        "# Mean squared error\n",
        "print(\"Mean squared error: %.2f\" % mean_squared_error(y_test, y_pred))"
      ],
      "metadata": {
        "colab": {
          "base_uri": "https://localhost:8080/"
        },
        "id": "YaiORVR3cslJ",
        "outputId": "08e901e5-ebfd-4c02-e76c-238ba7814f7e"
      },
      "execution_count": 24,
      "outputs": [
        {
          "output_type": "stream",
          "name": "stdout",
          "text": [
            "Intercept (theta 0): \n",
            " 153.70863842882716\n",
            "Coefficients (theta 1): \n",
            " 639.5251770853939\n",
            "Mean squared error: 4160.31\n"
          ]
        }
      ]
    },
    {
      "cell_type": "code",
      "source": [
        "# Plot outputs using test data\n",
        "plt.scatter(X_test, y_test, color=\"black\")\n",
        "plt.plot(X_test, y_pred, color=\"blue\", linewidth=3)\n",
        "\n",
        "plt.show()"
      ],
      "metadata": {
        "colab": {
          "base_uri": "https://localhost:8080/",
          "height": 430
        },
        "id": "6Mml1VNfdLf_",
        "outputId": "f36a2091-93ef-4a6d-c2d6-0bb233ceca71"
      },
      "execution_count": 26,
      "outputs": [
        {
          "output_type": "display_data",
          "data": {
            "text/plain": [
              "<Figure size 640x480 with 1 Axes>"
            ],
            "image/png": "[encoded data removed]"
          },
          "metadata": {}
        }
      ]
    },
    {
      "cell_type": "code",
      "source": [],
      "metadata": {
        "id": "5EmL-T78dWMR"
      },
      "execution_count": null,
      "outputs": []
    }
  ]
}