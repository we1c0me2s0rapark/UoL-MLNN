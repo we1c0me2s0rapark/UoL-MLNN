{
  "nbformat": 4,
  "nbformat_minor": 0,
  "metadata": {
    "colab": {
      "provenance": []
    },
    "kernelspec": {
      "name": "python3",
      "display_name": "Python 3"
    },
    "language_info": {
      "name": "python"
    }
  },
  "cells": [
    {
      "cell_type": "code",
      "execution_count": null,
      "metadata": {
        "id": "ZnEZriK2ABdl"
      },
      "outputs": [],
      "source": [
        "%matplotlib inline\n",
        "\n",
        "from sklearn import datasets, naive_bayes\n",
        "import numpy as np\n",
        "\n",
        "np.random.seed(1345)"
      ]
    },
    {
      "cell_type": "code",
      "source": [
        "# Load the wine dataset\n",
        "# Description => http://scikit-learn.org/stable/datasets/index.html#diabetes-dataset\n",
        "wine = datasets.load_wine()\n",
        "data = wine.data.copy()\n",
        "target = wine.target.copy()"
      ],
      "metadata": {
        "id": "0dD2EKd6Cd3W"
      },
      "execution_count": null,
      "outputs": []
    },
    {
      "cell_type": "code",
      "source": [
        "# Split the data into training/testing sets\n",
        "total_samples = wine.target.shape[0]\n",
        "exclude = round(total_samples/3)\n",
        "indices = np.arange(0, total_samples)\n",
        "np.random.shuffle(indices)\n",
        "\n",
        "idx_train = indices[:-exclude]\n",
        "idx_test = indices[-exclude:]\n",
        "\n",
        "assert not np.intersect1d(idx_test, idx_train).size\n",
        "\n",
        "X_train = data[idx_train]\n",
        "X_test = data[idx_test]"
      ],
      "metadata": {
        "id": "eOEBy0PwEszH"
      },
      "execution_count": null,
      "outputs": []
    },
    {
      "cell_type": "code",
      "source": [
        "# Split the targets into training/testing sets\n",
        "y_train = target[idx_train]\n",
        "y_test = target[idx_test]\n",
        "\n",
        "print(y_test)"
      ],
      "metadata": {
        "colab": {
          "base_uri": "https://localhost:8080/"
        },
        "id": "vY2LDNSIE7eT",
        "outputId": "02885a95-21ed-4673-fbd7-f48ad835a46d"
      },
      "execution_count": null,
      "outputs": [
        {
          "output_type": "stream",
          "name": "stdout",
          "text": [
            "[0 1 2 2 2 0 0 0 1 2 1 0 1 1 1 0 1 1 0 1 0 2 0 1 2 2 2 2 0 0 2 2 1 1 0 1 1\n",
            " 1 2 1 0 2 1 0 2 1 0 1 1 1 0 1 1 0 1 0 2 1 2]\n"
          ]
        }
      ]
    },
    {
      "cell_type": "code",
      "source": [
        "import matplotlib.pyplot as plt\n",
        "import sklearn.metrics as metrics"
      ],
      "metadata": {
        "id": "Zq3bfH4pFtAO"
      },
      "execution_count": null,
      "outputs": []
    },
    {
      "cell_type": "code",
      "source": [
        "# Create a naive bayes model with gaussian observations\n",
        "nb = naive_bayes.GaussianNB()\n",
        "\n",
        "# Train using training set\n",
        "nb.fit(X_train, y_train)"
      ],
      "metadata": {
        "colab": {
          "base_uri": "https://localhost:8080/",
          "height": 75
        },
        "id": "i-kAu9m6H7wh",
        "outputId": "3ae04cd5-ef17-4ee5-cf9b-6b9fe27da540"
      },
      "execution_count": null,
      "outputs": [
        {
          "output_type": "execute_result",
          "data": {
            "text/plain": [
              "GaussianNB()"
            ],
            "text/html": [
              "<style>#sk-container-id-2 {color: black;background-color: white;}#sk-container-id-2 pre{padding: 0;}#sk-container-id-2 div.sk-toggleable {background-color: white;}#sk-container-id-2 label.sk-toggleable__label {cursor: pointer;display: block;width: 100%;margin-bottom: 0;padding: 0.3em;box-sizing: border-box;text-align: center;}#sk-container-id-2 label.sk-toggleable__label-arrow:before {content: \"▸\";float: left;margin-right: 0.25em;color: #696969;}#sk-container-id-2 label.sk-toggleable__label-arrow:hover:before {color: black;}#sk-container-id-2 div.sk-estimator:hover label.sk-toggleable__label-arrow:before {color: black;}#sk-container-id-2 div.sk-toggleable__content {max-height: 0;max-width: 0;overflow: hidden;text-align: left;background-color: #f0f8ff;}#sk-container-id-2 div.sk-toggleable__content pre {margin: 0.2em;color: black;border-radius: 0.25em;background-color: #f0f8ff;}#sk-container-id-2 input.sk-toggleable__control:checked~div.sk-toggleable__content {max-height: 200px;max-width: 100%;overflow: auto;}#sk-container-id-2 input.sk-toggleable__control:checked~label.sk-toggleable__label-arrow:before {content: \"▾\";}#sk-container-id-2 div.sk-estimator input.sk-toggleable__control:checked~label.sk-toggleable__label {background-color: #d4ebff;}#sk-container-id-2 div.sk-label input.sk-toggleable__control:checked~label.sk-toggleable__label {background-color: #d4ebff;}#sk-container-id-2 input.sk-hidden--visually {border: 0;clip: rect(1px 1px 1px 1px);clip: rect(1px, 1px, 1px, 1px);height: 1px;margin: -1px;overflow: hidden;padding: 0;position: absolute;width: 1px;}#sk-container-id-2 div.sk-estimator {font-family: monospace;background-color: #f0f8ff;border: 1px dotted black;border-radius: 0.25em;box-sizing: border-box;margin-bottom: 0.5em;}#sk-container-id-2 div.sk-estimator:hover {background-color: #d4ebff;}#sk-container-id-2 div.sk-parallel-item::after {content: \"\";width: 100%;border-bottom: 1px solid gray;flex-grow: 1;}#sk-container-id-2 div.sk-label:hover label.sk-toggleable__label {background-color: #d4ebff;}#sk-container-id-2 div.sk-serial::before {content: \"\";position: absolute;border-left: 1px solid gray;box-sizing: border-box;top: 0;bottom: 0;left: 50%;z-index: 0;}#sk-container-id-2 div.sk-serial {display: flex;flex-direction: column;align-items: center;background-color: white;padding-right: 0.2em;padding-left: 0.2em;position: relative;}#sk-container-id-2 div.sk-item {position: relative;z-index: 1;}#sk-container-id-2 div.sk-parallel {display: flex;align-items: stretch;justify-content: center;background-color: white;position: relative;}#sk-container-id-2 div.sk-item::before, #sk-container-id-2 div.sk-parallel-item::before {content: \"\";position: absolute;border-left: 1px solid gray;box-sizing: border-box;top: 0;bottom: 0;left: 50%;z-index: -1;}#sk-container-id-2 div.sk-parallel-item {display: flex;flex-direction: column;z-index: 1;position: relative;background-color: white;}#sk-container-id-2 div.sk-parallel-item:first-child::after {align-self: flex-end;width: 50%;}#sk-container-id-2 div.sk-parallel-item:last-child::after {align-self: flex-start;width: 50%;}#sk-container-id-2 div.sk-parallel-item:only-child::after {width: 0;}#sk-container-id-2 div.sk-dashed-wrapped {border: 1px dashed gray;margin: 0 0.4em 0.5em 0.4em;box-sizing: border-box;padding-bottom: 0.4em;background-color: white;}#sk-container-id-2 div.sk-label label {font-family: monospace;font-weight: bold;display: inline-block;line-height: 1.2em;}#sk-container-id-2 div.sk-label-container {text-align: center;}#sk-container-id-2 div.sk-container {/* jupyter's `normalize.less` sets `[hidden] { display: none; }` but bootstrap.min.css set `[hidden] { display: none !important; }` so we also need the `!important` here to be able to override the default hidden behavior on the sphinx rendered scikit-learn.org. See: https://github.com/scikit-learn/scikit-learn/issues/21755 */display: inline-block !important;position: relative;}#sk-container-id-2 div.sk-text-repr-fallback {display: none;}</style><div id=\"sk-container-id-2\" class=\"sk-top-container\"><div class=\"sk-text-repr-fallback\"><pre>GaussianNB()</pre><b>In a Jupyter environment, please rerun this cell to show the HTML representation or trust the notebook. <br />On GitHub, the HTML representation is unable to render, please try loading this page with nbviewer.org.</b></div><div class=\"sk-container\" hidden><div class=\"sk-item\"><div class=\"sk-estimator sk-toggleable\"><input class=\"sk-toggleable__control sk-hidden--visually\" id=\"sk-estimator-id-2\" type=\"checkbox\" checked><label for=\"sk-estimator-id-2\" class=\"sk-toggleable__label sk-toggleable__label-arrow\">GaussianNB</label><div class=\"sk-toggleable__content\"><pre>GaussianNB()</pre></div></div></div></div></div>"
            ]
          },
          "metadata": {},
          "execution_count": 33
        }
      ]
    },
    {
      "cell_type": "code",
      "source": [
        "# Predict using test set\n",
        "y_pred = nb.predict(X_test)"
      ],
      "metadata": {
        "id": "ZHNO3LGqIIxz"
      },
      "execution_count": null,
      "outputs": []
    },
    {
      "cell_type": "code",
      "source": [
        "# Plot outputs\n",
        "plt.plot(y_test-0.1, 'g*')\n",
        "plt.plot(y_pred, 'b.')\n",
        "plt.show()"
      ],
      "metadata": {
        "colab": {
          "base_uri": "https://localhost:8080/",
          "height": 430
        },
        "id": "Gw5ZjvdzIOfu",
        "outputId": "5b954f63-9db8-4e08-94b0-6dc5a3e28997"
      },
      "execution_count": null,
      "outputs": [
        {
          "output_type": "display_data",
          "data": {
            "text/plain": [
              "<Figure size 640x480 with 1 Axes>"
            ],
            "image/png": "[encoded data removed]"
          },
          "metadata": {}
        }
      ]
    },
    {
      "cell_type": "code",
      "source": [
        "# Evaluation\n",
        "print(metrics.confusion_matrix(y_test, y_pred))\n",
        "print(\"accuracy: %.2f\" % metrics.accuracy_score(y_test, y_pred))"
      ],
      "metadata": {
        "colab": {
          "base_uri": "https://localhost:8080/"
        },
        "id": "pO5MebkHIVZ-",
        "outputId": "8ec7e72e-e856-45e1-9882-b250421e569b"
      },
      "execution_count": null,
      "outputs": [
        {
          "output_type": "stream",
          "name": "stdout",
          "text": [
            "[[16  2  0]\n",
            " [ 0 24  1]\n",
            " [ 0  0 16]]\n",
            "accuracy: 0.95\n"
          ]
        }
      ]
    },
    {
      "cell_type": "code",
      "source": [
        "# Calculate precision and recall (and f-score, a weighted average of precision and recall)\n",
        "precision, recall, fscore, _ = metrics.precision_recall_fscore_support(y_test, y_pred)\n",
        "for c in np.unique(y_test):\n",
        "  print(\"class %s, precision: %.2f, recall: %.2f, f_score: %.2f\" % (c, precision[c], recall[c], fscore[c]))"
      ],
      "metadata": {
        "colab": {
          "base_uri": "https://localhost:8080/"
        },
        "id": "-lyp-T1IItCk",
        "outputId": "d51c40e1-8e93-4e5a-e0b3-410d1ef6b1d6"
      },
      "execution_count": null,
      "outputs": [
        {
          "output_type": "stream",
          "name": "stdout",
          "text": [
            "class 0, precision: 1.00, recall: 0.89, f_score: 0.94\n",
            "class 1, precision: 0.92, recall: 0.96, f_score: 0.94\n",
            "class 2, precision: 0.94, recall: 1.00, f_score: 0.97\n"
          ]
        }
      ]
    },
    {
      "cell_type": "markdown",
      "source": [
        "Naive Bayes using objects"
      ],
      "metadata": {
        "id": "-D-XhL4GJ1AX"
      }
    },
    {
      "cell_type": "code",
      "source": [
        "class myGaussianNB:\n",
        "  def __init__(self):\n",
        "    # Initialise the object\n",
        "    self.nb = naive_bayes.GaussianNB()\n",
        "  def fit(self, X_train, y_train):\n",
        "    self.nb.fit(X_train, y_train)\n",
        "  def predict(self, X_test):\n",
        "    return self.nb.predict(X_test)"
      ],
      "metadata": {
        "id": "zAPXfB-JJ2J2"
      },
      "execution_count": null,
      "outputs": []
    },
    {
      "cell_type": "code",
      "source": [
        "# Evaluate as a binary classifier (i.e. oly consider class 0 vs. rest from the above)\n",
        "target_binary = np.zeros(target.shape)\n",
        "target_binary[target==0] = 1\n",
        "y_train_bin = target_binary[idx_train]\n",
        "y_test_bin = target_binary[idx_test]\n",
        "\n",
        "myNB = myGaussianNB()\n",
        "myNB.fit(X_train, y_train_bin)\n",
        "y_pred_bin = myNB.predict(X_test)\n",
        "\n",
        "print(metrics.confusion_matrix(y_test_bin, y_pred_bin))\n",
        "print(\"accuracy: %.2f\" % metrics.accuracy_score(y_test, y_pred))"
      ],
      "metadata": {
        "colab": {
          "base_uri": "https://localhost:8080/"
        },
        "id": "K5e3pE1dKYyC",
        "outputId": "0f94241d-8548-4bef-9e27-b2990708c080"
      },
      "execution_count": null,
      "outputs": [
        {
          "output_type": "stream",
          "name": "stdout",
          "text": [
            "[[40  1]\n",
            " [ 2 16]]\n",
            "accuracy: 0.95\n"
          ]
        }
      ]
    },
    {
      "cell_type": "markdown",
      "source": [
        "Implement my own version using Bayes theorem"
      ],
      "metadata": {
        "id": "f2OjVZxELXDi"
      }
    },
    {
      "cell_type": "code",
      "source": [
        "import math\n",
        "import scipy.stats as stats\n",
        "\n",
        "class myGaussianNB:\n",
        "  def __init__(self):\n",
        "    self.classes = []\n",
        "    self.numObservations = 0\n",
        "\n",
        "    self.class_prior = dict()\n",
        "    self.class_mean = dict()\n",
        "    self.class_std = dict()\n",
        "    self.class_likelihood = dict()\n",
        "    self.posteriors = []\n",
        "    self.predictions = []\n",
        "  def fit(self, X_train, y_train):\n",
        "    self.classes = np.unique(y_train.astype(int))\n",
        "    self.numObservations = X_train.shape[1]\n",
        "    total = len(y_train)\n",
        "    # train the model for each class\n",
        "    for c in self.classes:\n",
        "      # 1. calculate the prior => P(Class)\n",
        "      self.class_prior[c] = np.sum(y_train==c) / total\n",
        "      # 2. train a Gaussian model of the likelihood => P(Obs | Class)\n",
        "      #    : calculate the mean and standard deviation of the classes!\n",
        "      self.class_mean[c] = X_train[y_train==c].mean(0)\n",
        "      self.class_std[c] = X_train[y_train==c].std(0)\n",
        "  def predict(self, X_test):\n",
        "    # 1. evaluate (log) likelihoods of test data for each class\n",
        "    for c in self.classes:\n",
        "      # There will be multiple gaussians that need to be combined using the naive assumption\n",
        "      likelihood = 1\n",
        "      for obs in np.arange(0, self.numObservations).astype(int):\n",
        "        likelihood = likelihood * stats.norm.pdf(X_test[:, obs], self.class_mean[c][obs], self.class_std[c][obs])\n",
        "      self.class_likelihood[c] = likelihood\n",
        "      # 2. approximate the posterior using P(X | Y)P(Y)\n",
        "      self.posteriors.append(self.class_prior[c] * self.class_likelihood[c])\n",
        "    # 3. take the maximum posterior probability as our final class\n",
        "    self.predictions = np.argmax(self.posteriors, 0)\n",
        "    return self.predictions\n",
        "\n",
        "myNB = myGaussianNB()\n",
        "myNB.fit(X_train, y_train_bin)\n",
        "y_pred_bin = myNB.predict(X_test)\n",
        "\n",
        "print(metrics.confusion_matrix(y_test_bin, y_pred_bin))\n",
        "print(\"accuracy: %.2f\" % metrics.accuracy_score(y_test, y_pred))"
      ],
      "metadata": {
        "colab": {
          "base_uri": "https://localhost:8080/"
        },
        "id": "nD4Ha5eDLFGj",
        "outputId": "9eff3472-3a06-47bd-dce9-0d8ac212792a"
      },
      "execution_count": null,
      "outputs": [
        {
          "output_type": "stream",
          "name": "stdout",
          "text": [
            "[[40  1]\n",
            " [ 2 16]]\n",
            "accuracy: 0.95\n"
          ]
        }
      ]
    },
    {
      "cell_type": "code",
      "source": [],
      "metadata": {
        "id": "syNryEyxL1gs"
      },
      "execution_count": null,
      "outputs": []
    }
  ]
}