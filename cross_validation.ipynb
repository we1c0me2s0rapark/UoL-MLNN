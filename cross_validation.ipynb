{
  "nbformat": 4,
  "nbformat_minor": 0,
  "metadata": {
    "colab": {
      "provenance": []
    },
    "kernelspec": {
      "name": "python3",
      "display_name": "Python 3"
    },
    "language_info": {
      "name": "python"
    }
  },
  "cells": [
    {
      "cell_type": "code",
      "execution_count": 1,
      "metadata": {
        "id": "Dkkh01vHMAb6"
      },
      "outputs": [],
      "source": [
        "from sklearn import datasets\n",
        "from sklearn.model_selection import StratifiedShuffleSplit"
      ]
    },
    {
      "cell_type": "code",
      "source": [
        "iris = datasets.load_iris()\n",
        "\n",
        "# Set X a samples times features matrix, Y equals to the targets\n",
        "# Use only the first 10 datapoints for this example\n",
        "X = iris.data[0:10]\n",
        "y = iris.target[0:10]\n",
        "\n",
        "# Use 10 splits, with the test size being 0.2\n",
        "cvsplt = StratifiedShuffleSplit(n_splits=10, test_size=0.2, random_state=0)\n",
        "\n",
        "for train_index, test_index in cvsplt.split(X, y):\n",
        "  print(\"train indices:\", train_index, \"/ test indices:\", test_index)\n",
        "  X_train, X_test = X[train_index], X[test_index]\n",
        "  y_train, y_test = y[train_index], y[test_index]"
      ],
      "metadata": {
        "colab": {
          "base_uri": "https://localhost:8080/"
        },
        "id": "psqIcXaCVrDu",
        "outputId": "acc72feb-efd3-4220-c21b-a90f9982a22e"
      },
      "execution_count": 2,
      "outputs": [
        {
          "output_type": "stream",
          "name": "stdout",
          "text": [
            "train indices: [9 8 4 3 6 2 7 1] / test indices: [5 0]\n",
            "train indices: [1 6 8 3 0 2 4 5] / test indices: [9 7]\n",
            "train indices: [8 7 3 5 1 9 4 6] / test indices: [0 2]\n",
            "train indices: [5 0 9 8 6 2 3 1] / test indices: [4 7]\n",
            "train indices: [5 4 6 0 1 2 7 3] / test indices: [8 9]\n",
            "train indices: [8 6 2 0 7 3 1 5] / test indices: [4 9]\n",
            "train indices: [7 8 5 3 9 6 4 2] / test indices: [1 0]\n",
            "train indices: [4 8 5 1 6 7 9 3] / test indices: [2 0]\n",
            "train indices: [8 9 0 4 6 1 5 7] / test indices: [3 2]\n",
            "train indices: [6 2 4 1 7 8 9 5] / test indices: [3 0]\n"
          ]
        }
      ]
    },
    {
      "cell_type": "code",
      "source": [
        "from sklearn import datasets\n",
        "import numpy as np\n",
        "import matplotlib.pyplot as plt\n",
        "from sklearn.model_selection import train_test_split\n",
        "from sklearn.neighbors import KNeighborsClassifier"
      ],
      "metadata": {
        "id": "lyU4DCo0WRkB"
      },
      "execution_count": 4,
      "outputs": []
    },
    {
      "cell_type": "code",
      "source": [
        "%matplotlib inline\n",
        "iris = datasets.load_iris()\n",
        "\n",
        "# Set X a samples times features matrix, Y equals to the targets\n",
        "X = iris.data\n",
        "y = iris.target\n",
        "\n",
        "# Split to train and test\n",
        "X_train, X_test, y_train, y_test = train_test_split(X, y, test_size=0.2)\n",
        "\n",
        "# Define knn classifier, with 5 neighbours and use the euclidean distance\n",
        "knn = KNeighborsClassifier(n_neighbors=10, metric=\"euclidean\")\n",
        "\n",
        "# Define training and testing data, fit the classifier\n",
        "knn.fit(X_train, y_train)\n",
        "\n",
        "# Predict values for test data based on training data\n",
        "y_pred = knn.predict(X_test)\n",
        "\n",
        "print(y_test) # True values\n",
        "print(y_pred) # Predicted values"
      ],
      "metadata": {
        "colab": {
          "base_uri": "https://localhost:8080/"
        },
        "id": "GxqhW9WpWheQ",
        "outputId": "9ec84d4b-c0e0-49a3-d67b-db1732ad50ea"
      },
      "execution_count": 7,
      "outputs": [
        {
          "output_type": "stream",
          "name": "stdout",
          "text": [
            "[0 2 2 2 2 1 0 1 0 1 1 2 1 0 0 2 0 0 0 1 1 1 2 2 1 0 0 1 0 0]\n",
            "[0 2 2 2 2 1 0 1 0 1 1 2 1 0 0 2 0 0 0 1 1 1 2 2 1 0 0 1 0 0]\n"
          ]
        }
      ]
    },
    {
      "cell_type": "code",
      "source": [
        "def myCrossVal(X, y, foldK):\n",
        "  '''\n",
        "  This function performs cross validation on the sklearn KNeighborsClassifier algorithm.\n",
        "\n",
        "  [ inputs ]\n",
        "      X: a data matrix of size (samples, features)\n",
        "      y: a label array of size (samples,)\n",
        "      foldK: number of folds\n",
        "\n",
        "  [ outpus ]\n",
        "      accuracy_fold: a list of foldK accuracy values\n",
        "  '''\n",
        "\n",
        "  from sklearn.neighbors import KNeighborsClassifier\n",
        "  from sklearn import metrics\n",
        "\n",
        "  accuracy_fold = [] # List to store accuracies folds\n",
        "\n",
        "  # Generate a list of shuffled indices from in the range (0, number of data)\n",
        "  np.random.seed(0)\n",
        "  indices = np.random.permutation(np.arange(0, len(X), 1))\n",
        "\n",
        "  # Split the indices to k different bins\n",
        "  bins = np.array_split(indices, foldK)\n",
        "\n",
        "  for i in range(0, foldK):\n",
        "    foldTrain = [] # List to store current indices for training\n",
        "    foldTest = [] # List to store current indices for testing\n",
        "\n",
        "    # Take bin i for testing, rest for training\n",
        "    foldTest = bins[i]\n",
        "\n",
        "    for j in range(0, foldK):\n",
        "      if j != i:\n",
        "        foldTrain.extend(bins[j])\n",
        "\n",
        "    # Train kNN classifier\n",
        "    knn = KNeighborsClassifier(n_neighbors=10, metric=\"euclidean\")\n",
        "    knn.fit(X[foldTrain,:], y[foldTrain])\n",
        "\n",
        "    # Test on test data\n",
        "    y_pred = knn.predict(X[foldTest,:])\n",
        "\n",
        "    # Append the new accuracy to accuracy_fold list\n",
        "    accuracy_fold.append(metrics.accuracy_score(y[foldTest], y_pred))\n",
        "\n",
        "  return accuracy_fold\n",
        "\n",
        "accuracy_fold = myCrossVal(X, y, 5)\n",
        "print(accuracy_fold)"
      ],
      "metadata": {
        "colab": {
          "base_uri": "https://localhost:8080/"
        },
        "id": "33a_WtPQXMxL",
        "outputId": "22615dbd-1ef7-4490-a7a3-c46869bef8d8"
      },
      "execution_count": 8,
      "outputs": [
        {
          "output_type": "stream",
          "name": "stdout",
          "text": [
            "[1.0, 0.8666666666666667, 1.0, 0.9666666666666667, 0.9666666666666667]\n"
          ]
        }
      ]
    },
    {
      "cell_type": "code",
      "source": [
        "print(\"average accuracy: %.3f (std. %.3f)\" % (np.mean(accuracy_fold), np.std(accuracy_fold)))"
      ],
      "metadata": {
        "colab": {
          "base_uri": "https://localhost:8080/"
        },
        "id": "6fILL-a9aJlH",
        "outputId": "09234f37-748e-45c0-c9b1-f81beea3c823"
      },
      "execution_count": 9,
      "outputs": [
        {
          "output_type": "stream",
          "name": "stdout",
          "text": [
            "average accuracy: 0.960 (std. 0.049)\n"
          ]
        }
      ]
    },
    {
      "cell_type": "code",
      "source": [],
      "metadata": {
        "id": "RnvbgdUhaU_j"
      },
      "execution_count": null,
      "outputs": []
    }
  ]
}