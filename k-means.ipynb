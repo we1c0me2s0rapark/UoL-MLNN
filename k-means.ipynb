{
  "nbformat": 4,
  "nbformat_minor": 0,
  "metadata": {
    "colab": {
      "provenance": []
    },
    "kernelspec": {
      "name": "python3",
      "display_name": "Python 3"
    },
    "language_info": {
      "name": "python"
    }
  },
  "cells": [
    {
      "cell_type": "code",
      "execution_count": 1,
      "metadata": {
        "id": "KJhVvtiWXCvg"
      },
      "outputs": [],
      "source": [
        "%matplotlib inline\n",
        "\n",
        "from sklearn import datasets\n",
        "import numpy as np\n",
        "import matplotlib.pyplot as plt"
      ]
    },
    {
      "cell_type": "code",
      "source": [
        "iris = datasets.load_iris()\n",
        "\n",
        "X = iris.data\n",
        "y = iris.target"
      ],
      "metadata": {
        "id": "8Krjw_7YXZA5"
      },
      "execution_count": 2,
      "outputs": []
    },
    {
      "cell_type": "code",
      "source": [
        "from sklearn.cluster import KMeans\n",
        "from sklearn.metrics.cluster import v_measure_score"
      ],
      "metadata": {
        "id": "6n_S1P30XjYW"
      },
      "execution_count": 3,
      "outputs": []
    },
    {
      "cell_type": "code",
      "source": [
        "kmeans = KMeans(n_clusters=3, random_state=1, n_init=1, init='random').fit(X)\n",
        "ypred = kmeans.predict(X)"
      ],
      "metadata": {
        "id": "dSZm7aMaXqOU"
      },
      "execution_count": 4,
      "outputs": []
    },
    {
      "cell_type": "code",
      "source": [
        "# Compare the accuracy of k-means on the iris dataset\n",
        "v_measure_score(ypred, y)"
      ],
      "metadata": {
        "colab": {
          "base_uri": "https://localhost:8080/"
        },
        "id": "7cZB-8cXX1Hu",
        "outputId": "f2d3949a-ddc6-4546-918b-2d9a558b1790"
      },
      "execution_count": 5,
      "outputs": [
        {
          "output_type": "execute_result",
          "data": {
            "text/plain": [
              "0.7419116631817836"
            ]
          },
          "metadata": {},
          "execution_count": 5
        }
      ]
    },
    {
      "cell_type": "code",
      "source": [],
      "metadata": {
        "id": "1NPk92VVX73z"
      },
      "execution_count": null,
      "outputs": []
    }
  ]
}